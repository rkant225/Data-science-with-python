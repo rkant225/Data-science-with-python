{
 "cells": [
  {
   "cell_type": "code",
   "execution_count": 1,
   "metadata": {
    "collapsed": false
   },
   "outputs": [
    {
     "data": {
      "text/plain": [
       "Index(['id', 'sex', 'age', 'address', 'famsize', 'Pstatus', 'Medu', 'Fedu',\n",
       "       'traveltime', 'studytime', 'failures', 'schoolsup', 'famsup', 'paid',\n",
       "       'activities', 'nursery', 'higher', 'internet', 'romantic', 'famrel',\n",
       "       'freetime', 'goout', 'Dalc', 'Walc', 'health', 'absences', 'G1', 'G2',\n",
       "       'G3'],\n",
       "      dtype='object')"
      ]
     },
     "execution_count": 1,
     "metadata": {},
     "output_type": "execute_result"
    }
   ],
   "source": [
    "import matplotlib.pyplot as plt\n",
    "import matplotlib\n",
    "import pandas as pd\n",
    "\n",
    "matplotlib.style.use('ggplot')\n",
    "\n",
    "df=pd.read_csv('/home/rahul/Desktop/data_science/EDX_Data_Science/jupyter/Module3_VISUALIZATION_of data/Datasets/students.data')\n",
    "df.columns\n"
   ]
  },
  {
   "cell_type": "code",
   "execution_count": 9,
   "metadata": {
    "collapsed": false
   },
   "outputs": [
    {
     "data": {
      "image/png": "[encoded data removed]",
      "text/plain": [
       "<matplotlib.figure.Figure at 0x7f48d8bbe4e0>"
      ]
     },
     "metadata": {},
     "output_type": "display_data"
    },
    {
     "data": {
      "text/plain": [
       "array([ 0,  9, 12, 14, 11, 13, 10, 15, 17,  8, 16, 18,  7,  6,  5,  4, 19])"
      ]
     },
     "execution_count": 9,
     "metadata": {},
     "output_type": "execute_result"
    }
   ],
   "source": [
    "import matplotlib.pyplot as plt\n",
    "import matplotlib\n",
    "import pandas as pd\n",
    "from scipy.stats import norm\n",
    "import numpy as np\n",
    "\n",
    "matplotlib.style.use('ggplot')\n",
    "\n",
    "df=pd.read_csv('/home/rahul/Desktop/data_science/EDX_Data_Science/jupyter/Module3_VISUALIZATION_of data/Datasets/students.data',index_col=0)\n",
    "df.columns\n",
    "#df.age.unique()\n",
    "#df[df.age==21]\n",
    "#df.age.plot.hist(bins=10)\n",
    "#plt.show()\n",
    "series=df.age\n",
    "dataframe=df[['G3','G2','G1']]\n",
    "#series.plot.hist(title='S',normed=True)\n",
    "#dataframe.plot.hist(title='DF',alpha=0.5)\n",
    "\n",
    "\n",
    "\n",
    "################histtype : {‘bar’, ‘barstacked’, ‘step’, ‘stepfilled’}\n",
    "################cumulative : boolean, optional\n",
    "#series.plot.hist(bins=10, histtype='bar')\n",
    "#plt.show()\n",
    "df\n",
    "df.plot.scatter(x='G1',y='G3')\n",
    "plt.show()\n",
    "df.G1.unique()\n",
    "\n",
    "\n",
    "\n",
    "\n"
   ]
  }
 ],
 "metadata": {
  "anaconda-cloud": {},
  "kernelspec": {
   "display_name": "Python [conda root]",
   "language": "python",
   "name": "conda-root-py"
  },
  "language_info": {
   "codemirror_mode": {
    "name": "ipython",
    "version": 3
   },
   "file_extension": ".py",
   "mimetype": "text/x-python",
   "name": "python",
   "nbconvert_exporter": "python",
   "pygments_lexer": "ipython3",
   "version": "3.5.2"
  }
 },
 "nbformat": 4,
 "nbformat_minor": 1
}
