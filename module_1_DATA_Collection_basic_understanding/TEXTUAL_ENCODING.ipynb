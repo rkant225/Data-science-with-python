{
 "cells": [
  {
   "cell_type": "code",
   "execution_count": 2,
   "metadata": {
    "collapsed": false
   },
   "outputs": [
    {
     "name": "stdout",
     "output_type": "stream",
     "text": [
      "['any', 'bad', 'boy', 'childhood', 'come', 'from', 'good', 'he', 'is', 'near', 'no', 'not', 'only', 'rahul', 'to', 'was']\n"
     ]
    },
    {
     "data": {
      "text/plain": [
       "array([[0, 1, 2, 0, 0, 0, 1, 0, 1, 0, 0, 1, 0, 1, 0, 0],\n",
       "       [0, 1, 1, 1, 0, 1, 0, 1, 0, 0, 0, 0, 1, 0, 0, 1],\n",
       "       [1, 0, 1, 0, 1, 0, 0, 0, 0, 1, 1, 0, 0, 1, 1, 0]], dtype=int64)"
      ]
     },
     "execution_count": 2,
     "metadata": {},
     "output_type": "execute_result"
    }
   ],
   "source": [
    "from sklearn.feature_extraction.text import CountVectorizer\n",
    "sent=['Rahul is bad boy not a good boy .','He was bad boy from childhood only .','No any boy come near to Rahul .']\n",
    "sent\n",
    "bagofwords=CountVectorizer()\n",
    "x=bagofwords.fit_transform(sent)\n",
    "x\n",
    "print(bagofwords.get_feature_names())\n",
    "x.toarray()"
   ]
  }
 ],
 "metadata": {
  "anaconda-cloud": {},
  "kernelspec": {
   "display_name": "Python [conda root]",
   "language": "python",
   "name": "conda-root-py"
  },
  "language_info": {
   "codemirror_mode": {
    "name": "ipython",
    "version": 3
   },
   "file_extension": ".py",
   "mimetype": "text/x-python",
   "name": "python",
   "nbconvert_exporter": "python",
   "pygments_lexer": "ipython3",
   "version": "3.5.2"
  }
 },
 "nbformat": 4,
 "nbformat_minor": 1
}
