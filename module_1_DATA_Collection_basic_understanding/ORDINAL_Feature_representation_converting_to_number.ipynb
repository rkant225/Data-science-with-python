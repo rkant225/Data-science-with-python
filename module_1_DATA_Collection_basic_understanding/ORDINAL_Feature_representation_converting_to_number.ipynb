{
 "cells": [
  {
   "cell_type": "code",
   "execution_count": 20,
   "metadata": {
    "collapsed": false
   },
   "outputs": [
    {
     "data": {
      "text/plain": [
       "satisfaction     object\n",
       "satisfaction2      int8\n",
       "dtype: object"
      ]
     },
     "execution_count": 20,
     "metadata": {},
     "output_type": "execute_result"
    }
   ],
   "source": [
    "import pandas as pd\n",
    "ordinal_satisfaction=['Very unhappy','unhappy','neutral','happy','very happy']\n",
    "df=pd.DataFrame({'satisfaction':['mad','happy','unhappy','neutral']})\n",
    "df\n",
    "df['satisfaction2']=df.satisfaction.astype(dtype='category',ordered=True,categories=ordinal_satisfaction)\n",
    "df\n",
    "df.dtypes\n",
    "df.satisfaction2=df.satisfaction2.cat.codes\n",
    "df.satisfaction\n",
    "df.satisfaction2\n",
    "df.dtypes"
   ]
  }
 ],
 "metadata": {
  "anaconda-cloud": {},
  "kernelspec": {
   "display_name": "Python [conda root]",
   "language": "python",
   "name": "conda-root-py"
  },
  "language_info": {
   "codemirror_mode": {
    "name": "ipython",
    "version": 3
   },
   "file_extension": ".py",
   "mimetype": "text/x-python",
   "name": "python",
   "nbconvert_exporter": "python",
   "pygments_lexer": "ipython3",
   "version": "3.5.2"
  }
 },
 "nbformat": 4,
 "nbformat_minor": 1
}
