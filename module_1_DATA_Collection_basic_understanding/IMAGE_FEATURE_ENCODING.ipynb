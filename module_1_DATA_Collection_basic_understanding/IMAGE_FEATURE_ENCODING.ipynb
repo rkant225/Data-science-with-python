{
 "cells": [
  {
   "cell_type": "code",
   "execution_count": 45,
   "metadata": {
    "collapsed": false
   },
   "outputs": [
    {
     "data": {
      "text/plain": [
       "(16000,)"
      ]
     },
     "execution_count": 45,
     "metadata": {},
     "output_type": "execute_result"
    }
   ],
   "source": [
    "from scipy import misc\n",
    "img=misc.imread('img.png')\n",
    "img.shape\n",
    "img.dtype\n",
    "type(img)\n",
    "img=img[::2,::2]\n",
    "img\n",
    "img.shape\n",
    "img=(img/255.).reshape(-1,3)\n",
    "img\n",
    "r=img[:,0]\n",
    "g=img[:,1]\n",
    "b=img[:,2]\n",
    "gry=0.299*r+0.587*g+0.114*b\n",
    "gry.shape\n",
    "\n"
   ]
  }
 ],
 "metadata": {
  "anaconda-cloud": {},
  "kernelspec": {
   "display_name": "Python [default]",
   "language": "python",
   "name": "python3"
  },
  "language_info": {
   "codemirror_mode": {
    "name": "ipython",
    "version": 3
   },
   "file_extension": ".py",
   "mimetype": "text/x-python",
   "name": "python",
   "nbconvert_exporter": "python",
   "pygments_lexer": "ipython3",
   "version": "3.5.2"
  }
 },
 "nbformat": 4,
 "nbformat_minor": 1
}
