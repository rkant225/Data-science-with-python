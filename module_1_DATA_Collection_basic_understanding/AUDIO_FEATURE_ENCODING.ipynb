{
 "cells": [
  {
   "cell_type": "code",
   "execution_count": 20,
   "metadata": {
    "collapsed": false
   },
   "outputs": [
    {
     "name": "stdout",
     "output_type": "stream",
     "text": [
      "[[ 3840  3840]\n",
      " [ 5120  5120]\n",
      " [ 4864  4864]\n",
      " ..., \n",
      " [-4096 -4096]\n",
      " [-3840 -3840]\n",
      " [-3328 -3328]]\n"
     ]
    }
   ],
   "source": [
    "import scipy.io.wavfile as wavfile\n",
    "smpl,audiodata=wavfile.read('cow.wav')\n",
    "audiodata.shape\n",
    "print (audiodata)\n"
   ]
  }
 ],
 "metadata": {
  "anaconda-cloud": {},
  "kernelspec": {
   "display_name": "Python [conda root]",
   "language": "python",
   "name": "conda-root-py"
  },
  "language_info": {
   "codemirror_mode": {
    "name": "ipython",
    "version": 3
   },
   "file_extension": ".py",
   "mimetype": "text/x-python",
   "name": "python",
   "nbconvert_exporter": "python",
   "pygments_lexer": "ipython3",
   "version": "3.5.2"
  }
 },
 "nbformat": 4,
 "nbformat_minor": 1
}
