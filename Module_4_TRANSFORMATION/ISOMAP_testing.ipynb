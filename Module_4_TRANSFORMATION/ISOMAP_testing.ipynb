{
 "cells": [
  {
   "cell_type": "code",
   "execution_count": 14,
   "metadata": {
    "collapsed": false
   },
   "outputs": [
    {
     "data": {
      "text/plain": [
       "(40, 2)"
      ]
     },
     "execution_count": 14,
     "metadata": {},
     "output_type": "execute_result"
    }
   ],
   "source": [
    "from sklearn import manifold\n",
    "import sklearn as sk\n",
    "iso = manifold.Isomap(n_neighbors=4, n_components=2)\n",
    "import pandas as pd\n",
    "df=pd.read_csv('kideny.csv')\n",
    "df=pd.DataFrame([df.age,df.bp,df.sg,df.pcv,df.wc])\n",
    "df.fillna(0,inplace=True)\n",
    "df=df.transpose()\n",
    "df.shape\n",
    "iso.fit(df)\n",
    "manifold=iso.transform(df)\n",
    "manifold.shape\n",
    "#sk.manifold.Isomap(eigen_solver='auto', max_iter=None, n_components=2, n_neighbors=4,neighbors_algorithm='auto', path_method='auto', tol=0)\n"
   ]
  }
 ],
 "metadata": {
  "anaconda-cloud": {},
  "kernelspec": {
   "display_name": "Python [conda root]",
   "language": "python",
   "name": "conda-root-py"
  },
  "language_info": {
   "codemirror_mode": {
    "name": "ipython",
    "version": 3
   },
   "file_extension": ".py",
   "mimetype": "text/x-python",
   "name": "python",
   "nbconvert_exporter": "python",
   "pygments_lexer": "ipython3",
   "version": "3.5.2"
  }
 },
 "nbformat": 4,
 "nbformat_minor": 1
}
