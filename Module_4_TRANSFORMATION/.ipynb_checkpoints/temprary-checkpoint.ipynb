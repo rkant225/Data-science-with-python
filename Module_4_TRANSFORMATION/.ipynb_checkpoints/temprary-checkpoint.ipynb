{
 "cells": [
  {
   "cell_type": "code",
   "execution_count": null,
   "metadata": {
    "collapsed": true
   },
   "outputs": [],
   "source": [
    "#data=pd.DataFrame([df.bgr,df.wc,df.rc])\n",
    "data=df.drop(labels=['id', 'classification', 'rbc', 'pc', 'pcc', 'ba', 'htn', 'dm', 'cad', 'appet', 'pe', 'ane'],axis=1)\n",
    "data \n",
    "#data=data.transpose()\n",
    "data.pcv=pd.to_numeric(df.pcv)\n",
    "data.wc=pd.to_numeric(df.wc)\n",
    "data.rc=pd.to_numeric(df.rc)\n",
    "data.dtypes\n",
    " \n",
    "\n",
    "    \n",
    "if scaleFeatures: data = scaleFeaturesDF(data)\n",
    "    \n",
    "pca=PCA(n_components=2,svd_solver='full')\n",
    "pca.fit(data)\n",
    "data.shape\n",
    "T=pca.transform(data)\n",
    "T.shape\n",
    "T\n",
    "    \n",
    "ax = drawVectors(T, pca.components_, data.columns.values, plt, scaleFeatures)\n",
    "T  = pd.DataFrame(T)\n",
    "T.columns = ['component1', 'component2']\n",
    "T.plot.scatter(x='component1', y='component2', marker='o', c=labels, alpha=0.75, ax=ax)\n",
    "\n",
    "plt.show()   "
   ]
  }
 ],
 "metadata": {
  "anaconda-cloud": {},
  "kernelspec": {
   "display_name": "Python [conda root]",
   "language": "python",
   "name": "conda-root-py"
  },
  "language_info": {
   "codemirror_mode": {
    "name": "ipython",
    "version": 3
   },
   "file_extension": ".py",
   "mimetype": "text/x-python",
   "name": "python",
   "nbconvert_exporter": "python",
   "pygments_lexer": "ipython3",
   "version": "3.5.2"
  }
 },
 "nbformat": 4,
 "nbformat_minor": 1
}
