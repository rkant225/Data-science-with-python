{
 "cells": [
  {
   "cell_type": "code",
   "execution_count": 207,
   "metadata": {
    "collapsed": false,
    "scrolled": false
   },
   "outputs": [
    {
     "data": {
      "text/plain": [
       "Rahul          4\n",
       "Rajan          1\n",
       "janifer        1\n",
       "Unspecified    1\n",
       "Amit           1\n",
       "Name: Firstname, dtype: int64"
      ]
     },
     "execution_count": 207,
     "metadata": {},
     "output_type": "execute_result"
    }
   ],
   "source": [
    "import pandas as pd\n",
    "import numpy as np\n",
    "import re\n",
    "df=pd.read_csv('servo.csv')\n",
    "#df.columns=['A','B','C','D','E']\n",
    "df\n",
    "df.dtypes\n",
    "df.Date=pd.to_datetime(df.Date,errors='coerce')\n",
    "df\n",
    "df.Firstname==np.nan\n",
    "df.Firstname.isnull()\n",
    "sel=df.Firstname.str.contains(' ') & df.Lastname.isnull()\n",
    "sel\n",
    "df.Firstname[sel].apply(lambda x:x.split(' ')[1])\n",
    "#df.Lastname[sel]=df.Firstname[sel].apply(lambda x:x.split(' ')[1])\n",
    "#df.Firstname[sel]=df.Firstname[sel].apply(lambda x:x.split(' ')[0])\n",
    "df.loc[sel,'Lastname']=df.Firstname[sel].apply(lambda x:x.split(' ')[1])\n",
    "df.loc[sel,'Firstname']=df.Firstname[sel].apply(lambda x:x.split(' ')[0])\n",
    "df\n",
    "df.dtypes\n",
    "df['height2']=pd.to_numeric(df.Height,errors='coerce')\n",
    "df['weight2']=pd.to_numeric(df.Weight,errors='coerce')\n",
    "df.Height=df.Height.apply(lambda x:re.sub('[^0-9]','',str(x)))\n",
    "df.Weight=df.Weight.apply(lambda x:re.sub('[^0-9]','',str(x)))\n",
    "df.Height=pd.to_numeric(df.Height,errors='coerse')\n",
    "df.Weight=pd.to_numeric(df.Weight,errors='coerse')\n",
    "df.dtypes\n",
    "df\n",
    "df.drop_duplicates(subset=['Firstname','Lastname','Age','Height','Weight'],inplace=True)\n",
    "df\n",
    "df.dtypes\n",
    "df\n",
    "df.fillna(0)\n",
    "df.fillna(df.mean(axis=0))\n",
    "df.mean(axis=0)\n",
    "df\n",
    "\n",
    "df.fillna(method='ffill',limit=1)\n",
    "\n",
    "df.fillna(method='bfill',limit=1)\n",
    "df.dropna(axis=1)\n",
    "\n",
    "df\n",
    "\n",
    "df.fillna(df.mean(axis=0),inplace=True)\n",
    "\n",
    "bad_row=df[df.Date.isnull()].index\n",
    "df.drop(bad_row,inplace=True)\n",
    "df.Gender.fillna('M',inplace=True)\n",
    "df.Occupation.fillna('Unspecified',inplace=True)\n",
    "df.City.fillna('Unspecified',inplace=True)\n",
    "df.Firstname.fillna('Unspecified',inplace=True)\n",
    "df.reset_index()\n",
    "df.drop(labels=['City'],axis=1)\n",
    "df\n",
    "df.Firstname.unique()\n",
    "df.Firstname.value_counts()\n",
    "\n",
    "\n"
   ]
  }
 ],
 "metadata": {
  "anaconda-cloud": {},
  "kernelspec": {
   "display_name": "Python [conda root]",
   "language": "python",
   "name": "conda-root-py"
  },
  "language_info": {
   "codemirror_mode": {
    "name": "ipython",
    "version": 3
   },
   "file_extension": ".py",
   "mimetype": "text/x-python",
   "name": "python",
   "nbconvert_exporter": "python",
   "pygments_lexer": "ipython3",
   "version": "3.5.2"
  }
 },
 "nbformat": 4,
 "nbformat_minor": 1
}
