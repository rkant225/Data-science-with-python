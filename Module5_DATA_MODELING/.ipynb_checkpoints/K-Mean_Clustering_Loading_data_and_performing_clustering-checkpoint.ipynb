{
 "cells": [
  {
   "cell_type": "code",
   "execution_count": 26,
   "metadata": {
    "collapsed": false
   },
   "outputs": [
    {
     "data": {
      "text/plain": [
       "array([[  1.16847489e+03,   8.90497717e+02,   3.52691781e+02,\n",
       "          2.13127854e+01,   4.85753425e+01,   1.48591781e+03,\n",
       "          4.97865297e+02,   9.19334247e+03,   4.10503653e+03,\n",
       "          5.30547945e+02,   1.31097945e+03,   6.50525114e+01,\n",
       "          7.26986301e+01,   1.43952055e+01,   2.12237443e+01,\n",
       "          7.64104795e+03,   6.27146119e+01],\n",
       "       [  1.51104412e+04,   1.01255000e+04,   3.88338235e+03,\n",
       "          4.07058824e+01,   7.36764706e+01,   1.98478235e+04,\n",
       "          3.60058824e+03,   9.22535294e+03,   4.49376471e+03,\n",
       "          6.07500000e+02,   1.77235294e+03,   8.67058824e+01,\n",
       "          9.17647059e+01,   1.59823529e+01,   1.76470588e+01,\n",
       "          1.08922353e+04,   6.55882353e+01],\n",
       "       [  9.34175000e+03,   3.60625000e+03,   1.32195000e+03,\n",
       "          7.60500000e+01,   9.17000000e+01,   5.28320000e+03,\n",
       "          4.27200000e+02,   1.81197500e+04,   6.04275000e+03,\n",
       "          5.76600000e+02,   1.25555000e+03,   9.33000000e+01,\n",
       "          9.68000000e+01,   6.61500000e+00,   3.53500000e+01,\n",
       "          3.23479000e+04,   8.89500000e+01],\n",
       "       [  5.75430328e+03,   3.96040164e+03,   1.70579508e+03,\n",
       "          2.20655738e+01,   5.32295082e+01,   9.06245902e+03,\n",
       "          2.20848361e+03,   6.95218852e+03,   3.75409836e+03,\n",
       "          5.58614754e+02,   1.73500000e+03,   7.84262295e+01,\n",
       "          8.46475410e+01,   1.72336066e+01,   1.43032787e+01,\n",
       "          7.43975410e+03,   5.64098361e+01],\n",
       "       [  2.56359509e+03,   1.71173006e+03,   5.21343558e+02,\n",
       "          3.97607362e+01,   6.89877301e+01,   2.07292025e+03,\n",
       "          2.82840491e+02,   1.57146748e+04,   5.25244785e+03,\n",
       "          5.77613497e+02,   1.04557669e+03,   8.33251534e+01,\n",
       "          9.02085890e+01,   1.14380368e+01,   3.26625767e+01,\n",
       "          1.37069325e+04,   7.67177914e+01]])"
      ]
     },
     "execution_count": 26,
     "metadata": {},
     "output_type": "execute_result"
    }
   ],
   "source": [
    "import pandas as pd\n",
    "from sklearn.cluster import KMeans\n",
    "df=pd.read_csv('Datasets/College.csv')\n",
    "df=df.drop(labels=['Collage','Private'],axis=1)\n",
    "df.shape\n",
    "\n",
    "kmeans=KMeans(n_clusters=5)\n",
    "\n",
    "#Create Cluster\n",
    "kmeans.fit(df)\n",
    "\n",
    "#To which class each sample belongs to....PREDICTION\n",
    "labels=kmeans.predict(df)\n",
    "labels\n",
    "\n",
    "#as we have provided 5 clusters....There will be 5 CENTROIDS\n",
    "centroids = kmeans.cluster_centers_\n",
    "centroids\n",
    "\n",
    "\n"
   ]
  }
 ],
 "metadata": {
  "anaconda-cloud": {},
  "kernelspec": {
   "display_name": "Python [conda root]",
   "language": "python",
   "name": "conda-root-py"
  },
  "language_info": {
   "codemirror_mode": {
    "name": "ipython",
    "version": 3
   },
   "file_extension": ".py",
   "mimetype": "text/x-python",
   "name": "python",
   "nbconvert_exporter": "python",
   "pygments_lexer": "ipython3",
   "version": "3.5.2"
  }
 },
 "nbformat": 4,
 "nbformat_minor": 1
}
